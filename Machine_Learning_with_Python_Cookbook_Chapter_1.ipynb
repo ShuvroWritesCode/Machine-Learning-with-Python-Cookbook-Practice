{
  "cells": [
    {
      "cell_type": "markdown",
      "metadata": {
        "id": "view-in-github",
        "colab_type": "text"
      },
      "source": [
        "<a href=\"https://colab.research.google.com/github/ShuvroWritesCode/Machine-Learning-with-Python-Cookbook-Practice/blob/notebook/Machine_Learning_with_Python_Cookbook_Chapter_1.ipynb\" target=\"_parent\"><img src=\"https://colab.research.google.com/assets/colab-badge.svg\" alt=\"Open In Colab\"/></a>"
      ]
    },
    {
      "cell_type": "code",
      "execution_count": null,
      "metadata": {
        "id": "lrJxQdgzqe-K"
      },
      "outputs": [],
      "source": []
    },
    {
      "cell_type": "markdown",
      "metadata": {
        "id": "kB3pxGkgqjI_"
      },
      "source": [
        "### 1.1 Creating a Vector\n",
        "#### Problem: You need to create a vector."
      ]
    },
    {
      "cell_type": "code",
      "execution_count": null,
      "metadata": {
        "id": "DbIeNmeMq95f"
      },
      "outputs": [],
      "source": [
        "# load library\n",
        "import numpy as np\n",
        "\n",
        "# create a vector as a row\n",
        "vector_row = np.array([1, 2, 3])\n",
        "\n",
        "# create a vector as a column\n",
        "vector_column = np.array([[1],\n",
        "                          [2],\n",
        "                          [3]])"
      ]
    },
    {
      "cell_type": "markdown",
      "metadata": {
        "id": "bv68ESrPrnqK"
      },
      "source": [
        "### 1.2 Creating a matrix\n",
        "\n",
        "#### Problem: You need to create a matrix."
      ]
    },
    {
      "cell_type": "code",
      "execution_count": null,
      "metadata": {
        "id": "ZUkZj7A8rsf8"
      },
      "outputs": [],
      "source": [
        "# load library\n",
        "import numpy as np\n",
        "\n",
        "# create a matrix\n",
        "matrix = np.array([[1, 2],\n",
        "                   [3, 4],\n",
        "                   [5, 6]])"
      ]
    },
    {
      "cell_type": "markdown",
      "metadata": {
        "id": "qTd0OL0rstKw"
      },
      "source": [
        "### 1.3 Creating a Sparse Matrix\n",
        "#### Problem: Given data with very few nonzero values, you want to efficiently represent it."
      ]
    },
    {
      "cell_type": "code",
      "execution_count": 3,
      "metadata": {
        "colab": {
          "base_uri": "https://localhost:8080/"
        },
        "id": "OnzALstxs0Ig",
        "outputId": "63a3a092-a38e-421d-9d26-e5068ab2f67a"
      },
      "outputs": [
        {
          "output_type": "stream",
          "name": "stdout",
          "text": [
            "  (0, 0)\t1\n",
            "  (2, 1)\t6\n"
          ]
        }
      ],
      "source": [
        "# load library\n",
        "import numpy as np\n",
        "from scipy import sparse\n",
        "\n",
        "# create a matrix\n",
        "matrix = np.array([[1, 0],\n",
        "                   [0, 0],\n",
        "                   [0, 6]])\n",
        "\n",
        "# create a sparse matrix\n",
        "matrix_sparse = sparse.csr_matrix(matrix)\n",
        "print(matrix_sparse)"
      ]
    },
    {
      "cell_type": "markdown",
      "source": [
        "### 1.4 Preallocating NumPy Arrays\n",
        "#### Problem: You need to preallocate arrays of a given size with some value"
      ],
      "metadata": {
        "id": "Tyx7gREdjr6g"
      }
    },
    {
      "cell_type": "code",
      "source": [
        "# load library\n",
        "import numpy as np\n",
        "\n",
        "# create a vector of 1x5 with all zeros in it\n",
        "matrix1 = np.zeros(shape = 5)\n",
        "print(matrix1)\n",
        "\n",
        "# create a matrix of 3x3 with custom values\n",
        "matrix2 = np.full(shape = (3,3), fill_value = 1)\n",
        "print(matrix2)"
      ],
      "metadata": {
        "colab": {
          "base_uri": "https://localhost:8080/"
        },
        "id": "pt_Qx_KTj8h-",
        "outputId": "ad90237e-09cc-44ce-f14c-af44d3c6acae"
      },
      "execution_count": 4,
      "outputs": [
        {
          "output_type": "stream",
          "name": "stdout",
          "text": [
            "[0. 0. 0. 0. 0.]\n",
            "[[1 1 1]\n",
            " [1 1 1]\n",
            " [1 1 1]]\n"
          ]
        }
      ]
    },
    {
      "cell_type": "markdown",
      "source": [
        "### 1.5 Selecting Elements\n",
        "#### Problem: You need to select one or more elements in a vector or matrix"
      ],
      "metadata": {
        "id": "XnFOhqPHkqxn"
      }
    },
    {
      "cell_type": "code",
      "source": [
        "# load library\n",
        "import numpy as np\n",
        "\n",
        "# create a vector\n",
        "vector = np.array([1, 2, 3, 4, 5])\n",
        "print(vector)\n",
        "\n",
        "# create a matrix\n",
        "matrix = np.array([[1, 2, 3],\n",
        "                  [4, 5, 6],\n",
        "                  [7, 8, 9]])\n",
        "print(matrix)\n",
        "\n",
        "# access specific elements\n",
        "print(vector[2])\n",
        "print(matrix[1, 1])\n",
        "\n",
        "# select elements upto 3rd elements\n",
        "print(vector[:3])\n",
        "\n",
        "# select elements from 3rd elements\n",
        "print(vector[3:])\n",
        "\n",
        "# select all elements of vector\n",
        "print(vector[:])\n",
        "\n",
        "# select last element of vector\n",
        "print(vector[-1])\n",
        "\n",
        "# reverse the vector\n",
        "print(vector[::-1])\n",
        "\n",
        "# select the first two rows and all columns of a matrix\n",
        "print(matrix[:2, :])\n",
        "\n",
        "# select all rows and the second column\n",
        "print(matrix[:, 1:2])"
      ],
      "metadata": {
        "colab": {
          "base_uri": "https://localhost:8080/"
        },
        "id": "8xNJVHzqk3VV",
        "outputId": "81b2237e-c758-449c-9140-83a2383197e8"
      },
      "execution_count": 5,
      "outputs": [
        {
          "output_type": "stream",
          "name": "stdout",
          "text": [
            "[1 2 3 4 5]\n",
            "[[1 2 3]\n",
            " [4 5 6]\n",
            " [7 8 9]]\n",
            "3\n",
            "5\n",
            "[1 2 3]\n",
            "[4 5]\n",
            "[1 2 3 4 5]\n",
            "5\n",
            "[5 4 3 2 1]\n",
            "[[1 2 3]\n",
            " [4 5 6]]\n",
            "[[2]\n",
            " [5]\n",
            " [8]]\n"
          ]
        }
      ]
    },
    {
      "cell_type": "markdown",
      "source": [
        "### 1.6 Describing a Matrix\n",
        "#### Probelm: You want to describe the shape, size and dimensions of a matrix"
      ],
      "metadata": {
        "id": "4ADOtULSoBz4"
      }
    },
    {
      "cell_type": "code",
      "source": [
        "# load library\n",
        "import numpy as np\n",
        "\n",
        "# create a matrix\n",
        "matrix = np.array([[1, 2, 3, 4],\n",
        "                   [5, 6, 7, 8],\n",
        "                   [9, 10, 11, 12]])\n",
        "# view number of rows and columns\n",
        "print(matrix.shape)\n",
        "\n",
        "# view total number of elements in the matrix\n",
        "print(matrix.size)\n",
        "\n",
        "# view dimension of the matrix\n",
        "print(matrix.ndim)"
      ],
      "metadata": {
        "colab": {
          "base_uri": "https://localhost:8080/"
        },
        "id": "iDG-VPAZoK6a",
        "outputId": "94afe57c-1703-4a96-e482-ceec18600bd9"
      },
      "execution_count": 6,
      "outputs": [
        {
          "output_type": "stream",
          "name": "stdout",
          "text": [
            "(3, 4)\n",
            "12\n",
            "2\n"
          ]
        }
      ]
    },
    {
      "cell_type": "markdown",
      "source": [
        "### 1.7 Applying Functions over Each Elements\n",
        "#### Problem: You need to apply some functions to all elements of a matrix"
      ],
      "metadata": {
        "id": "wuBuWlERpcRL"
      }
    },
    {
      "cell_type": "markdown",
      "source": [],
      "metadata": {
        "id": "6iwE2XxmnPBJ"
      }
    },
    {
      "cell_type": "markdown",
      "source": [],
      "metadata": {
        "id": "Hcd54DWpl-lb"
      }
    },
    {
      "cell_type": "code",
      "source": [
        "# load library\n",
        "import numpy as np\n",
        "\n",
        "# Technique - 01 (broadcasting)\n",
        "# create a matrix\n",
        "matrix = np.array([[1, 2, 3],\n",
        "                   [4, 5, 6],\n",
        "                   [7, 8, 9]])\n",
        "matrix = matrix + 100\n",
        "print(matrix)\n",
        "\n",
        "# Technique - 02 (vectorize)\n",
        "add_10 = lambda i : i + 10\n",
        "\n",
        "# apply function add_10 to each element of matrix\n",
        "vectorized_add_10 = np.vectorize(add_10)\n",
        "matrix = vectorized_add_10(matrix)\n",
        "\n",
        "print(matrix)"
      ],
      "metadata": {
        "colab": {
          "base_uri": "https://localhost:8080/"
        },
        "id": "LhuezSSYqTTJ",
        "outputId": "d2db7035-f4ef-4255-f098-b9d692716f80"
      },
      "execution_count": 7,
      "outputs": [
        {
          "output_type": "stream",
          "name": "stdout",
          "text": [
            "[[101 102 103]\n",
            " [104 105 106]\n",
            " [107 108 109]]\n",
            "[[111 112 113]\n",
            " [114 115 116]\n",
            " [117 118 119]]\n"
          ]
        }
      ]
    },
    {
      "cell_type": "markdown",
      "source": [
        "  ### 1.8 Finding the Maximum and Minimum Values\n",
        "  #### Problem: You need to find the maximum and minimum values in an array"
      ],
      "metadata": {
        "id": "GBZp7GC11WYD"
      }
    },
    {
      "cell_type": "code",
      "source": [
        "# load library\n",
        "import numpy as np\n",
        "\n",
        "matrix = np.array([[1, 2, 3],\n",
        "                   [4, 5, 6],\n",
        "                   [7, 8, 9]])\n",
        "\n",
        "# print maximum and minimum values within matrix\n",
        "print(np.max(matrix))\n",
        "print(np.min(matrix))\n",
        "\n",
        "# print maximum values in each column within matrix\n",
        "print(np.max(matrix, axis = 0))\n",
        "# print maximum values in each row within matrix\n",
        "print(np.max(matrix, axis = 1))\n",
        "# print minimum values in each column within matrix\n",
        "print(np.min(matrix, axis = 0))\n",
        "# print minimum values in each row within matrix\n",
        "print(np.min(matrix, axis = 1))"
      ],
      "metadata": {
        "colab": {
          "base_uri": "https://localhost:8080/"
        },
        "id": "-iWgjCG619UQ",
        "outputId": "c4ce3708-fc86-42d5-9c9c-f3a8690c5fec"
      },
      "execution_count": 8,
      "outputs": [
        {
          "output_type": "stream",
          "name": "stdout",
          "text": [
            "9\n",
            "1\n",
            "[7 8 9]\n",
            "[3 6 9]\n",
            "[1 2 3]\n",
            "[1 4 7]\n"
          ]
        }
      ]
    },
    {
      "cell_type": "markdown",
      "source": [],
      "metadata": {
        "id": "xWfs2ma0zaOK"
      }
    },
    {
      "cell_type": "markdown",
      "source": [
        "### 1.9 Calculating the average, mean and standard deviation\n",
        "#### You want to calculate some descriptive statistics about an array."
      ],
      "metadata": {
        "id": "uTQhB4ddzuap"
      }
    },
    {
      "cell_type": "code",
      "source": [
        "import numpy as np\n",
        "\n",
        "matrix = np.array([[1, 2, 3],\n",
        "                   [4, 5, 6],\n",
        "                   [7, 8, 9]])\n",
        "\n",
        "print(np.mean(matrix))\n",
        "print(np.var(matrix))\n",
        "print(np.std(matrix))"
      ],
      "metadata": {
        "colab": {
          "base_uri": "https://localhost:8080/"
        },
        "id": "4ZyZKqXO6nq9",
        "outputId": "6fc17a37-acdf-4fcd-cf7c-1492e9425398"
      },
      "execution_count": 9,
      "outputs": [
        {
          "output_type": "stream",
          "name": "stdout",
          "text": [
            "5.0\n",
            "6.666666666666667\n",
            "2.581988897471611\n"
          ]
        }
      ]
    },
    {
      "cell_type": "markdown",
      "source": [
        "### 1.10 eshaping Arrays\n",
        "#### Problem: You need to change the shape of an array without changing the element value."
      ],
      "metadata": {
        "id": "erZmxXaT7D_n"
      }
    },
    {
      "cell_type": "code",
      "source": [
        "import numpy as np\n",
        "\n",
        "matrix = np.array([[1, 2, 3],\n",
        "                   [4, 5, 6],\n",
        "                   [7, 8, 9],\n",
        "                   [10, 11, 12]])\n",
        "\n",
        "print(matrix.size)\n",
        "\n",
        "new_matrix = matrix.reshape(2, 6)\n",
        "\n",
        "print(new_matrix.size)\n",
        "\n",
        "new_matrix2 = matrix.reshape(1, -1)\n",
        "\n",
        "print(new_matrix2)\n",
        "\n",
        "new_matrix3 = matrix.reshape(12)\n",
        "\n",
        "print(new_matrix3)"
      ],
      "metadata": {
        "colab": {
          "base_uri": "https://localhost:8080/"
        },
        "id": "yW5GjbzL7bZz",
        "outputId": "b05d3ada-d4e6-4519-9678-3822d7155407"
      },
      "execution_count": 13,
      "outputs": [
        {
          "output_type": "stream",
          "name": "stdout",
          "text": [
            "12\n",
            "12\n",
            "[[ 1  2  3  4  5  6  7  8  9 10 11 12]]\n",
            "[ 1  2  3  4  5  6  7  8  9 10 11 12]\n"
          ]
        }
      ]
    },
    {
      "cell_type": "markdown",
      "source": [
        "### 1.11 Transposing a Vector or Matrix\n",
        "#### Problem: You need to transpose a vector or matrix"
      ],
      "metadata": {
        "id": "_oRGunoz8_w1"
      }
    },
    {
      "cell_type": "code",
      "source": [
        "import numpy as np\n",
        "\n",
        "matrix = np.array([[1, 2, 3],\n",
        "                   [4, 5, 6],\n",
        "                   [7, 8, 9]]).T\n",
        "\n",
        "print(matrix)\n",
        "\n",
        "vector = np.array([1, 2, 3, 4, 5, 6]).T\n",
        "print(vector)\n",
        "\n",
        "row_matrix = np.array([[1, 2, 3, 4, 5, 6]]).T\n",
        "print(row_matrix)"
      ],
      "metadata": {
        "colab": {
          "base_uri": "https://localhost:8080/"
        },
        "id": "8PdB-kNZ9YsG",
        "outputId": "4c2113cc-2d39-41c1-b811-4587792024e2"
      },
      "execution_count": 16,
      "outputs": [
        {
          "output_type": "stream",
          "name": "stdout",
          "text": [
            "[[1 4 7]\n",
            " [2 5 8]\n",
            " [3 6 9]]\n",
            "[1 2 3 4 5 6]\n",
            "[[1]\n",
            " [2]\n",
            " [3]\n",
            " [4]\n",
            " [5]\n",
            " [6]]\n"
          ]
        }
      ]
    },
    {
      "cell_type": "markdown",
      "source": [
        "### 1.12 Flattening a Matrix\n",
        "#### Problem: You need to transform a matrix into a one-dimensional array."
      ],
      "metadata": {
        "id": "cKXmTDpP_G4c"
      }
    },
    {
      "cell_type": "code",
      "source": [
        "# load library\n",
        "import numpy as np\n",
        "# create matrix\n",
        "matrix = np.array([[1, 2, 3],\n",
        "                   [4, 5, 6],\n",
        "                   [7, 8, 9]])\n",
        "# flatten matrix\n",
        "print(matrix.flatten())\n",
        "# alternative to flatten()\n",
        "print(matrix.reshape(1, -1))\n",
        "\n",
        "\n",
        "# ravel method\n",
        "# create a matrix\n",
        "matrix2 = np.array([[1, 2],\n",
        "                    [3, 4]])\n",
        "# create another matrix\n",
        "matrix3 = np.array([[5, 6],\n",
        "                    [7, 8]])\n",
        "# create a list of matrices\n",
        "matrix_list = [matrix2, matrix3]\n",
        "# flatten the entire list of matrices\n",
        "np.ravel(matrix_list)"
      ],
      "metadata": {
        "colab": {
          "base_uri": "https://localhost:8080/"
        },
        "id": "FwBHpDWYAPJO",
        "outputId": "70daca28-f6c9-496a-84d5-09ff0762941e"
      },
      "execution_count": 19,
      "outputs": [
        {
          "output_type": "stream",
          "name": "stdout",
          "text": [
            "[1 2 3 4 5 6 7 8 9]\n",
            "[[1 2 3 4 5 6 7 8 9]]\n"
          ]
        },
        {
          "output_type": "execute_result",
          "data": {
            "text/plain": [
              "array([1, 2, 3, 4, 5, 6, 7, 8])"
            ]
          },
          "metadata": {},
          "execution_count": 19
        }
      ]
    },
    {
      "cell_type": "markdown",
      "source": [
        "### 1.13 Finding the Rank of a Matrix\n",
        "#### Problem: You need to know the rank of a matrix"
      ],
      "metadata": {
        "id": "zjSyWl0VBjjw"
      }
    },
    {
      "cell_type": "code",
      "source": [
        "import numpy as np\n",
        "import sympy\n",
        "sympy.Matrix([[1, 1, 1],[1, 1, 10],[1, 1, 15]]).rref()\n",
        "\n",
        "print(sympy.Matrix([[1, 1, 1],[1, 1, 10],[1, 1, 15]]).rank())"
      ],
      "metadata": {
        "colab": {
          "base_uri": "https://localhost:8080/"
        },
        "id": "tCRPmGg4Bs7g",
        "outputId": "b57a426b-d98a-458c-b6fd-fe7014322cc4"
      },
      "execution_count": 25,
      "outputs": [
        {
          "output_type": "stream",
          "name": "stdout",
          "text": [
            "2\n"
          ]
        }
      ]
    },
    {
      "cell_type": "markdown",
      "source": [],
      "metadata": {
        "id": "ft6vCUzdOftg"
      }
    }
  ],
  "metadata": {
    "colab": {
      "toc_visible": true,
      "provenance": [],
      "authorship_tag": "ABX9TyMBHIA0q0GUecN3syqiF9Kk",
      "include_colab_link": true
    },
    "kernelspec": {
      "display_name": "Python 3",
      "name": "python3"
    },
    "language_info": {
      "name": "python"
    }
  },
  "nbformat": 4,
  "nbformat_minor": 0
}