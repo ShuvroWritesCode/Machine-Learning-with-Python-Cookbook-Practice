{
  "cells": [
    {
      "cell_type": "markdown",
      "metadata": {
        "id": "view-in-github",
        "colab_type": "text"
      },
      "source": [
        "<a href=\"https://colab.research.google.com/github/ShuvroWritesCode/Machine-Learning-with-Python-Cookbook-Practice/blob/notebook/Machine_Learning_with_Python_Cookbook_Chapter_1.ipynb\" target=\"_parent\"><img src=\"https://colab.research.google.com/assets/colab-badge.svg\" alt=\"Open In Colab\"/></a>"
      ]
    },
    {
      "cell_type": "code",
      "execution_count": null,
      "metadata": {
        "id": "lrJxQdgzqe-K"
      },
      "outputs": [],
      "source": []
    },
    {
      "cell_type": "markdown",
      "metadata": {
        "id": "kB3pxGkgqjI_"
      },
      "source": [
        "## 1.1 Creating a Vector\n",
        "#### Problem: You need to create a vector."
      ]
    },
    {
      "cell_type": "code",
      "execution_count": null,
      "metadata": {
        "id": "DbIeNmeMq95f"
      },
      "outputs": [],
      "source": [
        "# load library\n",
        "import numpy as np\n",
        "\n",
        "# create a vector as a row\n",
        "vector_row = np.array([1, 2, 3])\n",
        "\n",
        "# create a vector as a column\n",
        "vector_column = np.array([[1],\n",
        "                          [2],\n",
        "                          [3]])"
      ]
    },
    {
      "cell_type": "markdown",
      "metadata": {
        "id": "bv68ESrPrnqK"
      },
      "source": [
        "## 1.2 Creating a matrix\n",
        "\n",
        "#### Problem: You need to create a matrix."
      ]
    },
    {
      "cell_type": "code",
      "execution_count": 7,
      "metadata": {
        "id": "ZUkZj7A8rsf8"
      },
      "outputs": [],
      "source": [
        "# load library\n",
        "import numpy as np\n",
        "\n",
        "# create a matrix\n",
        "matrix = np.array([[1, 2],\n",
        "                   [3, 4],\n",
        "                   [5, 6]])"
      ]
    },
    {
      "cell_type": "markdown",
      "metadata": {
        "id": "qTd0OL0rstKw"
      },
      "source": [
        "## 1.3 Creating a Sparse Matrix\n",
        "#### Problem: Given data with very few nonzero values, you want to efficiently represent it."
      ]
    },
    {
      "cell_type": "code",
      "execution_count": 8,
      "metadata": {
        "colab": {
          "base_uri": "https://localhost:8080/"
        },
        "id": "OnzALstxs0Ig",
        "outputId": "d25a04c8-17e6-4a45-f3f1-ef78c7af206a"
      },
      "outputs": [
        {
          "output_type": "stream",
          "name": "stdout",
          "text": [
            "  (0, 0)\t1\n",
            "  (2, 1)\t6\n"
          ]
        }
      ],
      "source": [
        "# load library\n",
        "import numpy as np\n",
        "from scipy import sparse\n",
        "\n",
        "# create a matrix\n",
        "matrix = np.array([[1, 0],\n",
        "                   [0, 0],\n",
        "                   [0, 6]])\n",
        "\n",
        "# create a sparse matrix\n",
        "matrix_sparse = sparse.csr_matrix(matrix)\n",
        "print(matrix_sparse)"
      ]
    }
  ],
  "metadata": {
    "colab": {
      "toc_visible": true,
      "provenance": [],
      "authorship_tag": "ABX9TyMYkAVPZUS929lG96d+Yp4e",
      "include_colab_link": true
    },
    "kernelspec": {
      "display_name": "Python 3",
      "name": "python3"
    },
    "language_info": {
      "name": "python"
    }
  },
  "nbformat": 4,
  "nbformat_minor": 0
}